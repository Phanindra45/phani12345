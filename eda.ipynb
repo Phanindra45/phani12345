{
 "cells": [
  {
   "cell_type": "code",
   "execution_count": 15,
   "metadata": {},
   "outputs": [],
   "source": [
    "import pandas as pd"
   ]
  },
  {
   "cell_type": "code",
   "execution_count": 16,
   "metadata": {},
   "outputs": [],
   "source": [
    "df = pd.read_csv(\"online.csv\")"
   ]
  },
  {
   "cell_type": "code",
   "execution_count": 17,
   "metadata": {},
   "outputs": [
    {
     "data": {
      "text/html": [
       "<div>\n",
       "<style scoped>\n",
       "    .dataframe tbody tr th:only-of-type {\n",
       "        vertical-align: middle;\n",
       "    }\n",
       "\n",
       "    .dataframe tbody tr th {\n",
       "        vertical-align: top;\n",
       "    }\n",
       "\n",
       "    .dataframe thead th {\n",
       "        text-align: right;\n",
       "    }\n",
       "</style>\n",
       "<table border=\"1\" class=\"dataframe\">\n",
       "  <thead>\n",
       "    <tr style=\"text-align: right;\">\n",
       "      <th></th>\n",
       "      <th>Unnamed: 0</th>\n",
       "      <th>order_status</th>\n",
       "      <th>Monthly Income</th>\n",
       "      <th>latitude</th>\n",
       "      <th>Marital Status</th>\n",
       "      <th>Gender</th>\n",
       "      <th>employment_status</th>\n",
       "      <th>Family size</th>\n",
       "      <th>Reviews</th>\n",
       "      <th>Pin code</th>\n",
       "      <th>Age</th>\n",
       "      <th>longitude</th>\n",
       "      <th>Educational Qualifications</th>\n",
       "      <th>Unnamed: 13</th>\n",
       "      <th>9</th>\n",
       "      <th>#@%</th>\n",
       "    </tr>\n",
       "  </thead>\n",
       "  <tbody>\n",
       "    <tr>\n",
       "      <th>0</th>\n",
       "      <td>0</td>\n",
       "      <td>Yes</td>\n",
       "      <td>25001 to 50000</td>\n",
       "      <td>13.0262</td>\n",
       "      <td>Married</td>\n",
       "      <td>Male</td>\n",
       "      <td>Employee</td>\n",
       "      <td>5.0</td>\n",
       "      <td>Positive</td>\n",
       "      <td>560045</td>\n",
       "      <td>28.0</td>\n",
       "      <td>77.6200</td>\n",
       "      <td>Post Graduate</td>\n",
       "      <td>Yes</td>\n",
       "      <td>NaN</td>\n",
       "      <td>swiggyscount</td>\n",
       "    </tr>\n",
       "    <tr>\n",
       "      <th>1</th>\n",
       "      <td>1</td>\n",
       "      <td>Yes</td>\n",
       "      <td>No Income</td>\n",
       "      <td>12.9770</td>\n",
       "      <td>Single</td>\n",
       "      <td>Male</td>\n",
       "      <td>Student</td>\n",
       "      <td>NaN</td>\n",
       "      <td>Positive</td>\n",
       "      <td>560009</td>\n",
       "      <td>NaN</td>\n",
       "      <td>77.5773</td>\n",
       "      <td>Post Graduate</td>\n",
       "      <td>Yes</td>\n",
       "      <td>NaN</td>\n",
       "      <td>*7435</td>\n",
       "    </tr>\n",
       "    <tr>\n",
       "      <th>2</th>\n",
       "      <td>2</td>\n",
       "      <td>Yes</td>\n",
       "      <td>No Income</td>\n",
       "      <td>12.9770</td>\n",
       "      <td>Single</td>\n",
       "      <td>Female</td>\n",
       "      <td>Student</td>\n",
       "      <td>NaN</td>\n",
       "      <td>Positive</td>\n",
       "      <td>560009</td>\n",
       "      <td>NaN</td>\n",
       "      <td>77.5773</td>\n",
       "      <td>Post Graduate</td>\n",
       "      <td>Yes</td>\n",
       "      <td>NaN</td>\n",
       "      <td>*7435</td>\n",
       "    </tr>\n",
       "    <tr>\n",
       "      <th>3</th>\n",
       "      <td>3</td>\n",
       "      <td>Yes</td>\n",
       "      <td>No Income</td>\n",
       "      <td>13.0019</td>\n",
       "      <td>Single</td>\n",
       "      <td>Female</td>\n",
       "      <td>Student</td>\n",
       "      <td>NaN</td>\n",
       "      <td>Positive</td>\n",
       "      <td>560003</td>\n",
       "      <td>NaN</td>\n",
       "      <td>77.5713</td>\n",
       "      <td>Post Graduate</td>\n",
       "      <td>Yes</td>\n",
       "      <td>NaN</td>\n",
       "      <td>*7435</td>\n",
       "    </tr>\n",
       "    <tr>\n",
       "      <th>4</th>\n",
       "      <td>4</td>\n",
       "      <td>Yes</td>\n",
       "      <td>More than 50000</td>\n",
       "      <td>13.0626</td>\n",
       "      <td>Married</td>\n",
       "      <td>Male</td>\n",
       "      <td>Self Employeed</td>\n",
       "      <td>NaN</td>\n",
       "      <td>Positive</td>\n",
       "      <td>560015</td>\n",
       "      <td>NaN</td>\n",
       "      <td>77.5284</td>\n",
       "      <td>School</td>\n",
       "      <td>Yes</td>\n",
       "      <td>NaN</td>\n",
       "      <td>*7435</td>\n",
       "    </tr>\n",
       "  </tbody>\n",
       "</table>\n",
       "</div>"
      ],
      "text/plain": [
       "   Unnamed: 0 order_status   Monthly Income  latitude Marital Status  Gender  \\\n",
       "0           0          Yes   25001 to 50000   13.0262        Married    Male   \n",
       "1           1          Yes        No Income   12.9770         Single    Male   \n",
       "2           2          Yes        No Income   12.9770         Single  Female   \n",
       "3           3          Yes        No Income   13.0019         Single  Female   \n",
       "4           4          Yes  More than 50000   13.0626        Married    Male   \n",
       "\n",
       "  employment_status  Family size   Reviews  Pin code   Age  longitude  \\\n",
       "0          Employee          5.0  Positive    560045  28.0    77.6200   \n",
       "1           Student          NaN  Positive    560009   NaN    77.5773   \n",
       "2           Student          NaN  Positive    560009   NaN    77.5773   \n",
       "3           Student          NaN  Positive    560003   NaN    77.5713   \n",
       "4    Self Employeed          NaN  Positive    560015   NaN    77.5284   \n",
       "\n",
       "  Educational Qualifications Unnamed: 13   9           #@%  \n",
       "0              Post Graduate         Yes NaN  swiggyscount  \n",
       "1              Post Graduate         Yes NaN         *7435  \n",
       "2              Post Graduate         Yes NaN         *7435  \n",
       "3              Post Graduate         Yes NaN         *7435  \n",
       "4                     School         Yes NaN         *7435  "
      ]
     },
     "execution_count": 17,
     "metadata": {},
     "output_type": "execute_result"
    }
   ],
   "source": [
    "df.head(5)"
   ]
  },
  {
   "cell_type": "code",
   "execution_count": 18,
   "metadata": {},
   "outputs": [
    {
     "data": {
      "text/plain": [
       "(388, 16)"
      ]
     },
     "execution_count": 18,
     "metadata": {},
     "output_type": "execute_result"
    }
   ],
   "source": [
    "df.shape"
   ]
  },
  {
   "cell_type": "code",
   "execution_count": 19,
   "metadata": {},
   "outputs": [
    {
     "data": {
      "text/plain": [
       "Index(['Unnamed: 0', 'order_status', 'Monthly Income', 'latitude',\n",
       "       'Marital Status', 'Gender', 'employment_status', 'Family size',\n",
       "       'Reviews', 'Pin code', 'Age', 'longitude', 'Educational Qualifications',\n",
       "       'Unnamed: 13', '9', '#@%'],\n",
       "      dtype='object')"
      ]
     },
     "execution_count": 19,
     "metadata": {},
     "output_type": "execute_result"
    }
   ],
   "source": [
    "df.columns"
   ]
  },
  {
   "cell_type": "code",
   "execution_count": 20,
   "metadata": {},
   "outputs": [
    {
     "data": {
      "text/plain": [
       "Unnamed: 0                      0\n",
       "order_status                    0\n",
       "Monthly Income                  0\n",
       "latitude                        0\n",
       "Marital Status                  0\n",
       "Gender                          0\n",
       "employment_status               0\n",
       "Family size                    19\n",
       "Reviews                         0\n",
       "Pin code                        0\n",
       "Age                            19\n",
       "longitude                       0\n",
       "Educational Qualifications      0\n",
       "Unnamed: 13                     0\n",
       "9                             388\n",
       "#@%                           382\n",
       "dtype: int64"
      ]
     },
     "execution_count": 20,
     "metadata": {},
     "output_type": "execute_result"
    }
   ],
   "source": [
    "df.isnull().sum()"
   ]
  },
  {
   "cell_type": "code",
   "execution_count": 21,
   "metadata": {},
   "outputs": [],
   "source": [
    "df.drop(columns=[\"9\",\"#@%\",\"Unnamed: 13\", \"Unnamed: 0\"], inplace=True)"
   ]
  },
  {
   "cell_type": "code",
   "execution_count": 22,
   "metadata": {},
   "outputs": [
    {
     "data": {
      "text/plain": [
       "(388, 12)"
      ]
     },
     "execution_count": 22,
     "metadata": {},
     "output_type": "execute_result"
    }
   ],
   "source": [
    "df.shape"
   ]
  },
  {
   "cell_type": "code",
   "execution_count": 23,
   "metadata": {},
   "outputs": [
    {
     "data": {
      "text/plain": [
       "order_status                   0\n",
       "Monthly Income                 0\n",
       "latitude                       0\n",
       "Marital Status                 0\n",
       "Gender                         0\n",
       "employment_status              0\n",
       "Family size                   19\n",
       "Reviews                        0\n",
       "Pin code                       0\n",
       "Age                           19\n",
       "longitude                      0\n",
       "Educational Qualifications     0\n",
       "dtype: int64"
      ]
     },
     "execution_count": 23,
     "metadata": {},
     "output_type": "execute_result"
    }
   ],
   "source": [
    "df.isnull().sum()"
   ]
  },
  {
   "cell_type": "code",
   "execution_count": 24,
   "metadata": {},
   "outputs": [
    {
     "data": {
      "text/plain": [
       "<AxesSubplot:ylabel='Family size'>"
      ]
     },
     "execution_count": 24,
     "metadata": {},
     "output_type": "execute_result"
    },
    {
     "data": {
      "image/png": "[encoded data removed]",
      "text/plain": [
       "<Figure size 432x288 with 1 Axes>"
      ]
     },
     "metadata": {
      "needs_background": "light"
     },
     "output_type": "display_data"
    }
   ],
   "source": [
    "import seaborn as sns\n",
    "import matplotlib.pyplot as plt\n",
    "\n",
    "sns.boxplot(y=\"Family size\", data=df)\n",
    "\n"
   ]
  },
  {
   "cell_type": "code",
   "execution_count": 25,
   "metadata": {},
   "outputs": [],
   "source": [
    "family_mean=int(df[\"Family size\"].mean())"
   ]
  },
  {
   "cell_type": "code",
   "execution_count": 26,
   "metadata": {},
   "outputs": [],
   "source": [
    "df[\"Family size\"].fillna(family_mean,inplace=True)\n"
   ]
  },
  {
   "cell_type": "code",
   "execution_count": 27,
   "metadata": {},
   "outputs": [
    {
     "data": {
      "text/plain": [
       "order_status                   0\n",
       "Monthly Income                 0\n",
       "latitude                       0\n",
       "Marital Status                 0\n",
       "Gender                         0\n",
       "employment_status              0\n",
       "Family size                    0\n",
       "Reviews                        0\n",
       "Pin code                       0\n",
       "Age                           19\n",
       "longitude                      0\n",
       "Educational Qualifications     0\n",
       "dtype: int64"
      ]
     },
     "execution_count": 27,
     "metadata": {},
     "output_type": "execute_result"
    }
   ],
   "source": [
    "df.isnull().sum()"
   ]
  },
  {
   "cell_type": "code",
   "execution_count": 28,
   "metadata": {},
   "outputs": [
    {
     "data": {
      "text/html": [
       "<div>\n",
       "<style scoped>\n",
       "    .dataframe tbody tr th:only-of-type {\n",
       "        vertical-align: middle;\n",
       "    }\n",
       "\n",
       "    .dataframe tbody tr th {\n",
       "        vertical-align: top;\n",
       "    }\n",
       "\n",
       "    .dataframe thead th {\n",
       "        text-align: right;\n",
       "    }\n",
       "</style>\n",
       "<table border=\"1\" class=\"dataframe\">\n",
       "  <thead>\n",
       "    <tr style=\"text-align: right;\">\n",
       "      <th></th>\n",
       "      <th>order_status</th>\n",
       "      <th>Monthly Income</th>\n",
       "      <th>latitude</th>\n",
       "      <th>Marital Status</th>\n",
       "      <th>Gender</th>\n",
       "      <th>employment_status</th>\n",
       "      <th>Family size</th>\n",
       "      <th>Reviews</th>\n",
       "      <th>Pin code</th>\n",
       "      <th>Age</th>\n",
       "      <th>longitude</th>\n",
       "      <th>Educational Qualifications</th>\n",
       "    </tr>\n",
       "  </thead>\n",
       "  <tbody>\n",
       "    <tr>\n",
       "      <th>0</th>\n",
       "      <td>Yes</td>\n",
       "      <td>25001 to 50000</td>\n",
       "      <td>13.0262</td>\n",
       "      <td>Married</td>\n",
       "      <td>Male</td>\n",
       "      <td>Employee</td>\n",
       "      <td>5.0</td>\n",
       "      <td>Positive</td>\n",
       "      <td>560045</td>\n",
       "      <td>28.0</td>\n",
       "      <td>77.6200</td>\n",
       "      <td>Post Graduate</td>\n",
       "    </tr>\n",
       "    <tr>\n",
       "      <th>1</th>\n",
       "      <td>Yes</td>\n",
       "      <td>No Income</td>\n",
       "      <td>12.9770</td>\n",
       "      <td>Single</td>\n",
       "      <td>Male</td>\n",
       "      <td>Student</td>\n",
       "      <td>3.0</td>\n",
       "      <td>Positive</td>\n",
       "      <td>560009</td>\n",
       "      <td>NaN</td>\n",
       "      <td>77.5773</td>\n",
       "      <td>Post Graduate</td>\n",
       "    </tr>\n",
       "    <tr>\n",
       "      <th>2</th>\n",
       "      <td>Yes</td>\n",
       "      <td>No Income</td>\n",
       "      <td>12.9770</td>\n",
       "      <td>Single</td>\n",
       "      <td>Female</td>\n",
       "      <td>Student</td>\n",
       "      <td>3.0</td>\n",
       "      <td>Positive</td>\n",
       "      <td>560009</td>\n",
       "      <td>NaN</td>\n",
       "      <td>77.5773</td>\n",
       "      <td>Post Graduate</td>\n",
       "    </tr>\n",
       "    <tr>\n",
       "      <th>3</th>\n",
       "      <td>Yes</td>\n",
       "      <td>No Income</td>\n",
       "      <td>13.0019</td>\n",
       "      <td>Single</td>\n",
       "      <td>Female</td>\n",
       "      <td>Student</td>\n",
       "      <td>3.0</td>\n",
       "      <td>Positive</td>\n",
       "      <td>560003</td>\n",
       "      <td>NaN</td>\n",
       "      <td>77.5713</td>\n",
       "      <td>Post Graduate</td>\n",
       "    </tr>\n",
       "    <tr>\n",
       "      <th>4</th>\n",
       "      <td>Yes</td>\n",
       "      <td>More than 50000</td>\n",
       "      <td>13.0626</td>\n",
       "      <td>Married</td>\n",
       "      <td>Male</td>\n",
       "      <td>Self Employeed</td>\n",
       "      <td>3.0</td>\n",
       "      <td>Positive</td>\n",
       "      <td>560015</td>\n",
       "      <td>NaN</td>\n",
       "      <td>77.5284</td>\n",
       "      <td>School</td>\n",
       "    </tr>\n",
       "  </tbody>\n",
       "</table>\n",
       "</div>"
      ],
      "text/plain": [
       "  order_status   Monthly Income  latitude Marital Status  Gender  \\\n",
       "0          Yes   25001 to 50000   13.0262        Married    Male   \n",
       "1          Yes        No Income   12.9770         Single    Male   \n",
       "2          Yes        No Income   12.9770         Single  Female   \n",
       "3          Yes        No Income   13.0019         Single  Female   \n",
       "4          Yes  More than 50000   13.0626        Married    Male   \n",
       "\n",
       "  employment_status  Family size   Reviews  Pin code   Age  longitude  \\\n",
       "0          Employee          5.0  Positive    560045  28.0    77.6200   \n",
       "1           Student          3.0  Positive    560009   NaN    77.5773   \n",
       "2           Student          3.0  Positive    560009   NaN    77.5773   \n",
       "3           Student          3.0  Positive    560003   NaN    77.5713   \n",
       "4    Self Employeed          3.0  Positive    560015   NaN    77.5284   \n",
       "\n",
       "  Educational Qualifications  \n",
       "0              Post Graduate  \n",
       "1              Post Graduate  \n",
       "2              Post Graduate  \n",
       "3              Post Graduate  \n",
       "4                     School  "
      ]
     },
     "execution_count": 28,
     "metadata": {},
     "output_type": "execute_result"
    }
   ],
   "source": [
    "df.head()"
   ]
  },
  {
   "cell_type": "code",
   "execution_count": 46,
   "metadata": {},
   "outputs": [
    {
     "data": {
      "text/plain": [
       "<AxesSubplot:ylabel='Age'>"
      ]
     },
     "execution_count": 46,
     "metadata": {},
     "output_type": "execute_result"
    },
    {
     "data": {
      "image/png": "[encoded data removed]",
      "text/plain": [
       "<Figure size 432x288 with 1 Axes>"
      ]
     },
     "metadata": {
      "needs_background": "light"
     },
     "output_type": "display_data"
    }
   ],
   "source": [
    "sns.boxplot(y=\"Age\", data=df)"
   ]
  },
  {
   "cell_type": "code",
   "execution_count": 30,
   "metadata": {},
   "outputs": [],
   "source": [
    "age_median = int(df[\"Age\"].median())"
   ]
  },
  {
   "cell_type": "code",
   "execution_count": 31,
   "metadata": {},
   "outputs": [],
   "source": [
    "df[\"Age\"].fillna(age_median,inplace=True)\n"
   ]
  },
  {
   "cell_type": "code",
   "execution_count": 32,
   "metadata": {},
   "outputs": [
    {
     "data": {
      "text/plain": [
       "order_status                  0\n",
       "Monthly Income                0\n",
       "latitude                      0\n",
       "Marital Status                0\n",
       "Gender                        0\n",
       "employment_status             0\n",
       "Family size                   0\n",
       "Reviews                       0\n",
       "Pin code                      0\n",
       "Age                           0\n",
       "longitude                     0\n",
       "Educational Qualifications    0\n",
       "dtype: int64"
      ]
     },
     "execution_count": 32,
     "metadata": {},
     "output_type": "execute_result"
    }
   ],
   "source": [
    "df.isnull().sum()"
   ]
  },
  {
   "cell_type": "code",
   "execution_count": 33,
   "metadata": {},
   "outputs": [
    {
     "data": {
      "text/html": [
       "<div>\n",
       "<style scoped>\n",
       "    .dataframe tbody tr th:only-of-type {\n",
       "        vertical-align: middle;\n",
       "    }\n",
       "\n",
       "    .dataframe tbody tr th {\n",
       "        vertical-align: top;\n",
       "    }\n",
       "\n",
       "    .dataframe thead th {\n",
       "        text-align: right;\n",
       "    }\n",
       "</style>\n",
       "<table border=\"1\" class=\"dataframe\">\n",
       "  <thead>\n",
       "    <tr style=\"text-align: right;\">\n",
       "      <th></th>\n",
       "      <th>latitude</th>\n",
       "      <th>Family size</th>\n",
       "      <th>Pin code</th>\n",
       "      <th>Age</th>\n",
       "      <th>longitude</th>\n",
       "    </tr>\n",
       "  </thead>\n",
       "  <tbody>\n",
       "    <tr>\n",
       "      <th>count</th>\n",
       "      <td>388.000000</td>\n",
       "      <td>388.000000</td>\n",
       "      <td>388.000000</td>\n",
       "      <td>388.000000</td>\n",
       "      <td>388.000000</td>\n",
       "    </tr>\n",
       "    <tr>\n",
       "      <th>mean</th>\n",
       "      <td>12.972058</td>\n",
       "      <td>3.283505</td>\n",
       "      <td>560040.113402</td>\n",
       "      <td>24.634021</td>\n",
       "      <td>77.600160</td>\n",
       "    </tr>\n",
       "    <tr>\n",
       "      <th>std</th>\n",
       "      <td>0.044489</td>\n",
       "      <td>1.322450</td>\n",
       "      <td>31.399609</td>\n",
       "      <td>2.897932</td>\n",
       "      <td>0.051354</td>\n",
       "    </tr>\n",
       "    <tr>\n",
       "      <th>min</th>\n",
       "      <td>12.865200</td>\n",
       "      <td>1.000000</td>\n",
       "      <td>560001.000000</td>\n",
       "      <td>18.000000</td>\n",
       "      <td>77.484200</td>\n",
       "    </tr>\n",
       "    <tr>\n",
       "      <th>25%</th>\n",
       "      <td>12.936900</td>\n",
       "      <td>2.000000</td>\n",
       "      <td>560010.750000</td>\n",
       "      <td>23.000000</td>\n",
       "      <td>77.565275</td>\n",
       "    </tr>\n",
       "    <tr>\n",
       "      <th>50%</th>\n",
       "      <td>12.977000</td>\n",
       "      <td>3.000000</td>\n",
       "      <td>560033.500000</td>\n",
       "      <td>24.000000</td>\n",
       "      <td>77.592100</td>\n",
       "    </tr>\n",
       "    <tr>\n",
       "      <th>75%</th>\n",
       "      <td>12.997025</td>\n",
       "      <td>4.000000</td>\n",
       "      <td>560068.000000</td>\n",
       "      <td>26.000000</td>\n",
       "      <td>77.630900</td>\n",
       "    </tr>\n",
       "    <tr>\n",
       "      <th>max</th>\n",
       "      <td>13.102000</td>\n",
       "      <td>6.000000</td>\n",
       "      <td>560109.000000</td>\n",
       "      <td>33.000000</td>\n",
       "      <td>77.758200</td>\n",
       "    </tr>\n",
       "  </tbody>\n",
       "</table>\n",
       "</div>"
      ],
      "text/plain": [
       "         latitude  Family size       Pin code         Age   longitude\n",
       "count  388.000000   388.000000     388.000000  388.000000  388.000000\n",
       "mean    12.972058     3.283505  560040.113402   24.634021   77.600160\n",
       "std      0.044489     1.322450      31.399609    2.897932    0.051354\n",
       "min     12.865200     1.000000  560001.000000   18.000000   77.484200\n",
       "25%     12.936900     2.000000  560010.750000   23.000000   77.565275\n",
       "50%     12.977000     3.000000  560033.500000   24.000000   77.592100\n",
       "75%     12.997025     4.000000  560068.000000   26.000000   77.630900\n",
       "max     13.102000     6.000000  560109.000000   33.000000   77.758200"
      ]
     },
     "execution_count": 33,
     "metadata": {},
     "output_type": "execute_result"
    }
   ],
   "source": [
    "df.describe()"
   ]
  },
  {
   "cell_type": "code",
   "execution_count": 34,
   "metadata": {},
   "outputs": [
    {
     "name": "stdout",
     "output_type": "stream",
     "text": [
      "3\n"
     ]
    }
   ],
   "source": [
    "q1=int(df.describe()[\"Age\"][\"25%\"])\n",
    "q3=int(df.describe()[\"Age\"][\"75%\"])\n",
    "IQR=q3-q1\n",
    "print(IQR)"
   ]
  },
  {
   "cell_type": "code",
   "execution_count": 35,
   "metadata": {},
   "outputs": [
    {
     "data": {
      "text/plain": [
       "18.5"
      ]
     },
     "execution_count": 35,
     "metadata": {},
     "output_type": "execute_result"
    }
   ],
   "source": [
    "lower_limit =q1-1.5*IQR\n",
    "upper_limit = q3 + 1.5*IQR\n",
    "lower_limit"
   ]
  },
  {
   "cell_type": "code",
   "execution_count": 36,
   "metadata": {},
   "outputs": [
    {
     "data": {
      "text/plain": [
       "30.5"
      ]
     },
     "execution_count": 36,
     "metadata": {},
     "output_type": "execute_result"
    }
   ],
   "source": [
    "upper_limit"
   ]
  },
  {
   "cell_type": "code",
   "execution_count": 37,
   "metadata": {},
   "outputs": [
    {
     "data": {
      "text/plain": [
       "order_status                  24\n",
       "Monthly Income                24\n",
       "latitude                      24\n",
       "Marital Status                24\n",
       "Gender                        24\n",
       "employment_status             24\n",
       "Family size                   24\n",
       "Reviews                       24\n",
       "Pin code                      24\n",
       "Age                           24\n",
       "longitude                     24\n",
       "Educational Qualifications    24\n",
       "dtype: int64"
      ]
     },
     "execution_count": 37,
     "metadata": {},
     "output_type": "execute_result"
    }
   ],
   "source": [
    "df[(df[\"Age\"]>upper_limit) | (df[\"Age\"]<lower_limit)].count()"
   ]
  },
  {
   "cell_type": "code",
   "execution_count": 38,
   "metadata": {},
   "outputs": [
    {
     "data": {
      "text/html": [
       "<div>\n",
       "<style scoped>\n",
       "    .dataframe tbody tr th:only-of-type {\n",
       "        vertical-align: middle;\n",
       "    }\n",
       "\n",
       "    .dataframe tbody tr th {\n",
       "        vertical-align: top;\n",
       "    }\n",
       "\n",
       "    .dataframe thead th {\n",
       "        text-align: right;\n",
       "    }\n",
       "</style>\n",
       "<table border=\"1\" class=\"dataframe\">\n",
       "  <thead>\n",
       "    <tr style=\"text-align: right;\">\n",
       "      <th></th>\n",
       "      <th>order_status</th>\n",
       "      <th>Monthly Income</th>\n",
       "      <th>latitude</th>\n",
       "      <th>Marital Status</th>\n",
       "      <th>Gender</th>\n",
       "      <th>employment_status</th>\n",
       "      <th>Family size</th>\n",
       "      <th>Reviews</th>\n",
       "      <th>Pin code</th>\n",
       "      <th>Age</th>\n",
       "      <th>longitude</th>\n",
       "      <th>Educational Qualifications</th>\n",
       "    </tr>\n",
       "  </thead>\n",
       "  <tbody>\n",
       "    <tr>\n",
       "      <th>16</th>\n",
       "      <td>Yes</td>\n",
       "      <td>25001 to 50000</td>\n",
       "      <td>12.9706</td>\n",
       "      <td>Married</td>\n",
       "      <td>Male</td>\n",
       "      <td>Employee</td>\n",
       "      <td>3.0</td>\n",
       "      <td>Positive</td>\n",
       "      <td>560075</td>\n",
       "      <td>32.0</td>\n",
       "      <td>77.6529</td>\n",
       "      <td>Graduate</td>\n",
       "    </tr>\n",
       "    <tr>\n",
       "      <th>26</th>\n",
       "      <td>Yes</td>\n",
       "      <td>10001 to 25000</td>\n",
       "      <td>12.9820</td>\n",
       "      <td>Married</td>\n",
       "      <td>Male</td>\n",
       "      <td>Self Employeed</td>\n",
       "      <td>3.0</td>\n",
       "      <td>Negative</td>\n",
       "      <td>560008</td>\n",
       "      <td>32.0</td>\n",
       "      <td>77.6256</td>\n",
       "      <td>School</td>\n",
       "    </tr>\n",
       "    <tr>\n",
       "      <th>31</th>\n",
       "      <td>No</td>\n",
       "      <td>More than 50000</td>\n",
       "      <td>13.0019</td>\n",
       "      <td>Married</td>\n",
       "      <td>Female</td>\n",
       "      <td>Employee</td>\n",
       "      <td>1.0</td>\n",
       "      <td>Positive</td>\n",
       "      <td>560003</td>\n",
       "      <td>32.0</td>\n",
       "      <td>77.5713</td>\n",
       "      <td>Graduate</td>\n",
       "    </tr>\n",
       "    <tr>\n",
       "      <th>33</th>\n",
       "      <td>No</td>\n",
       "      <td>No Income</td>\n",
       "      <td>13.0140</td>\n",
       "      <td>Married</td>\n",
       "      <td>Female</td>\n",
       "      <td>House wife</td>\n",
       "      <td>3.0</td>\n",
       "      <td>Positive</td>\n",
       "      <td>560012</td>\n",
       "      <td>32.0</td>\n",
       "      <td>77.5658</td>\n",
       "      <td>Uneducated</td>\n",
       "    </tr>\n",
       "    <tr>\n",
       "      <th>71</th>\n",
       "      <td>Yes</td>\n",
       "      <td>25001 to 50000</td>\n",
       "      <td>12.9706</td>\n",
       "      <td>Married</td>\n",
       "      <td>Male</td>\n",
       "      <td>Employee</td>\n",
       "      <td>3.0</td>\n",
       "      <td>Positive</td>\n",
       "      <td>560075</td>\n",
       "      <td>32.0</td>\n",
       "      <td>77.6529</td>\n",
       "      <td>Graduate</td>\n",
       "    </tr>\n",
       "    <tr>\n",
       "      <th>74</th>\n",
       "      <td>Yes</td>\n",
       "      <td>More than 50000</td>\n",
       "      <td>12.9037</td>\n",
       "      <td>Married</td>\n",
       "      <td>Male</td>\n",
       "      <td>Employee</td>\n",
       "      <td>5.0</td>\n",
       "      <td>Positive</td>\n",
       "      <td>560061</td>\n",
       "      <td>32.0</td>\n",
       "      <td>77.5376</td>\n",
       "      <td>Graduate</td>\n",
       "    </tr>\n",
       "    <tr>\n",
       "      <th>98</th>\n",
       "      <td>Yes</td>\n",
       "      <td>More than 50000</td>\n",
       "      <td>12.9369</td>\n",
       "      <td>Married</td>\n",
       "      <td>Male</td>\n",
       "      <td>Employee</td>\n",
       "      <td>6.0</td>\n",
       "      <td>Positive</td>\n",
       "      <td>560095</td>\n",
       "      <td>32.0</td>\n",
       "      <td>77.6407</td>\n",
       "      <td>Post Graduate</td>\n",
       "    </tr>\n",
       "    <tr>\n",
       "      <th>105</th>\n",
       "      <td>Yes</td>\n",
       "      <td>More than 50000</td>\n",
       "      <td>13.0487</td>\n",
       "      <td>Married</td>\n",
       "      <td>Male</td>\n",
       "      <td>Self Employeed</td>\n",
       "      <td>6.0</td>\n",
       "      <td>Positive</td>\n",
       "      <td>560024</td>\n",
       "      <td>31.0</td>\n",
       "      <td>77.5923</td>\n",
       "      <td>School</td>\n",
       "    </tr>\n",
       "    <tr>\n",
       "      <th>139</th>\n",
       "      <td>Yes</td>\n",
       "      <td>No Income</td>\n",
       "      <td>12.9889</td>\n",
       "      <td>Married</td>\n",
       "      <td>Female</td>\n",
       "      <td>House wife</td>\n",
       "      <td>5.0</td>\n",
       "      <td>Positive</td>\n",
       "      <td>560020</td>\n",
       "      <td>32.0</td>\n",
       "      <td>77.5741</td>\n",
       "      <td>School</td>\n",
       "    </tr>\n",
       "    <tr>\n",
       "      <th>147</th>\n",
       "      <td>Yes</td>\n",
       "      <td>No Income</td>\n",
       "      <td>12.9635</td>\n",
       "      <td>Single</td>\n",
       "      <td>Male</td>\n",
       "      <td>Student</td>\n",
       "      <td>5.0</td>\n",
       "      <td>Positive</td>\n",
       "      <td>560002</td>\n",
       "      <td>18.0</td>\n",
       "      <td>77.5821</td>\n",
       "      <td>Graduate</td>\n",
       "    </tr>\n",
       "    <tr>\n",
       "      <th>151</th>\n",
       "      <td>Yes</td>\n",
       "      <td>10001 to 25000</td>\n",
       "      <td>12.9783</td>\n",
       "      <td>Married</td>\n",
       "      <td>Male</td>\n",
       "      <td>Employee</td>\n",
       "      <td>4.0</td>\n",
       "      <td>Positive</td>\n",
       "      <td>560038</td>\n",
       "      <td>32.0</td>\n",
       "      <td>77.6408</td>\n",
       "      <td>Graduate</td>\n",
       "    </tr>\n",
       "    <tr>\n",
       "      <th>153</th>\n",
       "      <td>No</td>\n",
       "      <td>More than 50000</td>\n",
       "      <td>12.9980</td>\n",
       "      <td>Married</td>\n",
       "      <td>Male</td>\n",
       "      <td>Employee</td>\n",
       "      <td>5.0</td>\n",
       "      <td>Negative</td>\n",
       "      <td>560005</td>\n",
       "      <td>33.0</td>\n",
       "      <td>77.6227</td>\n",
       "      <td>Ph.D</td>\n",
       "    </tr>\n",
       "    <tr>\n",
       "      <th>157</th>\n",
       "      <td>Yes</td>\n",
       "      <td>More than 50000</td>\n",
       "      <td>12.9369</td>\n",
       "      <td>Married</td>\n",
       "      <td>Male</td>\n",
       "      <td>Employee</td>\n",
       "      <td>6.0</td>\n",
       "      <td>Positive</td>\n",
       "      <td>560095</td>\n",
       "      <td>32.0</td>\n",
       "      <td>77.6407</td>\n",
       "      <td>Post Graduate</td>\n",
       "    </tr>\n",
       "    <tr>\n",
       "      <th>175</th>\n",
       "      <td>Yes</td>\n",
       "      <td>More than 50000</td>\n",
       "      <td>12.9306</td>\n",
       "      <td>Married</td>\n",
       "      <td>Male</td>\n",
       "      <td>Employee</td>\n",
       "      <td>3.0</td>\n",
       "      <td>Positive</td>\n",
       "      <td>560085</td>\n",
       "      <td>31.0</td>\n",
       "      <td>77.5434</td>\n",
       "      <td>Ph.D</td>\n",
       "    </tr>\n",
       "    <tr>\n",
       "      <th>228</th>\n",
       "      <td>Yes</td>\n",
       "      <td>More than 50000</td>\n",
       "      <td>12.9119</td>\n",
       "      <td>Married</td>\n",
       "      <td>Male</td>\n",
       "      <td>Employee</td>\n",
       "      <td>5.0</td>\n",
       "      <td>Positive</td>\n",
       "      <td>560102</td>\n",
       "      <td>31.0</td>\n",
       "      <td>77.6446</td>\n",
       "      <td>Ph.D</td>\n",
       "    </tr>\n",
       "    <tr>\n",
       "      <th>232</th>\n",
       "      <td>No</td>\n",
       "      <td>Below Rs.10000</td>\n",
       "      <td>12.9866</td>\n",
       "      <td>Prefer not to say</td>\n",
       "      <td>Male</td>\n",
       "      <td>Employee</td>\n",
       "      <td>1.0</td>\n",
       "      <td>Negative</td>\n",
       "      <td>560091</td>\n",
       "      <td>31.0</td>\n",
       "      <td>77.4904</td>\n",
       "      <td>Graduate</td>\n",
       "    </tr>\n",
       "    <tr>\n",
       "      <th>260</th>\n",
       "      <td>Yes</td>\n",
       "      <td>More than 50000</td>\n",
       "      <td>12.9037</td>\n",
       "      <td>Married</td>\n",
       "      <td>Male</td>\n",
       "      <td>Employee</td>\n",
       "      <td>5.0</td>\n",
       "      <td>Positive</td>\n",
       "      <td>560061</td>\n",
       "      <td>32.0</td>\n",
       "      <td>77.5376</td>\n",
       "      <td>Graduate</td>\n",
       "    </tr>\n",
       "    <tr>\n",
       "      <th>263</th>\n",
       "      <td>Yes</td>\n",
       "      <td>More than 50000</td>\n",
       "      <td>12.9635</td>\n",
       "      <td>Married</td>\n",
       "      <td>Male</td>\n",
       "      <td>Employee</td>\n",
       "      <td>5.0</td>\n",
       "      <td>Negative</td>\n",
       "      <td>560002</td>\n",
       "      <td>32.0</td>\n",
       "      <td>77.5821</td>\n",
       "      <td>Ph.D</td>\n",
       "    </tr>\n",
       "    <tr>\n",
       "      <th>308</th>\n",
       "      <td>No</td>\n",
       "      <td>Below Rs.10000</td>\n",
       "      <td>12.9866</td>\n",
       "      <td>Prefer not to say</td>\n",
       "      <td>Male</td>\n",
       "      <td>Employee</td>\n",
       "      <td>1.0</td>\n",
       "      <td>Negative</td>\n",
       "      <td>560091</td>\n",
       "      <td>31.0</td>\n",
       "      <td>77.4904</td>\n",
       "      <td>Graduate</td>\n",
       "    </tr>\n",
       "    <tr>\n",
       "      <th>332</th>\n",
       "      <td>Yes</td>\n",
       "      <td>No Income</td>\n",
       "      <td>12.9850</td>\n",
       "      <td>Married</td>\n",
       "      <td>Female</td>\n",
       "      <td>House wife</td>\n",
       "      <td>3.0</td>\n",
       "      <td>Positive</td>\n",
       "      <td>560010</td>\n",
       "      <td>32.0</td>\n",
       "      <td>77.5533</td>\n",
       "      <td>Graduate</td>\n",
       "    </tr>\n",
       "    <tr>\n",
       "      <th>337</th>\n",
       "      <td>Yes</td>\n",
       "      <td>25001 to 50000</td>\n",
       "      <td>12.9261</td>\n",
       "      <td>Married</td>\n",
       "      <td>Female</td>\n",
       "      <td>Employee</td>\n",
       "      <td>5.0</td>\n",
       "      <td>Positive</td>\n",
       "      <td>560034</td>\n",
       "      <td>32.0</td>\n",
       "      <td>77.6221</td>\n",
       "      <td>Graduate</td>\n",
       "    </tr>\n",
       "    <tr>\n",
       "      <th>351</th>\n",
       "      <td>Yes</td>\n",
       "      <td>No Income</td>\n",
       "      <td>13.0289</td>\n",
       "      <td>Married</td>\n",
       "      <td>Female</td>\n",
       "      <td>House wife</td>\n",
       "      <td>5.0</td>\n",
       "      <td>Positive</td>\n",
       "      <td>560022</td>\n",
       "      <td>31.0</td>\n",
       "      <td>77.5400</td>\n",
       "      <td>School</td>\n",
       "    </tr>\n",
       "    <tr>\n",
       "      <th>355</th>\n",
       "      <td>Yes</td>\n",
       "      <td>25001 to 50000</td>\n",
       "      <td>12.9706</td>\n",
       "      <td>Married</td>\n",
       "      <td>Male</td>\n",
       "      <td>Employee</td>\n",
       "      <td>3.0</td>\n",
       "      <td>Positive</td>\n",
       "      <td>560075</td>\n",
       "      <td>32.0</td>\n",
       "      <td>77.6529</td>\n",
       "      <td>Graduate</td>\n",
       "    </tr>\n",
       "    <tr>\n",
       "      <th>369</th>\n",
       "      <td>Yes</td>\n",
       "      <td>More than 50000</td>\n",
       "      <td>12.9662</td>\n",
       "      <td>Married</td>\n",
       "      <td>Female</td>\n",
       "      <td>Employee</td>\n",
       "      <td>5.0</td>\n",
       "      <td>Positive</td>\n",
       "      <td>560025</td>\n",
       "      <td>31.0</td>\n",
       "      <td>77.6068</td>\n",
       "      <td>Ph.D</td>\n",
       "    </tr>\n",
       "  </tbody>\n",
       "</table>\n",
       "</div>"
      ],
      "text/plain": [
       "    order_status   Monthly Income  latitude     Marital Status  Gender  \\\n",
       "16           Yes   25001 to 50000   12.9706            Married    Male   \n",
       "26           Yes   10001 to 25000   12.9820            Married    Male   \n",
       "31            No  More than 50000   13.0019            Married  Female   \n",
       "33            No        No Income   13.0140            Married  Female   \n",
       "71           Yes   25001 to 50000   12.9706            Married    Male   \n",
       "74           Yes  More than 50000   12.9037            Married    Male   \n",
       "98           Yes  More than 50000   12.9369            Married    Male   \n",
       "105          Yes  More than 50000   13.0487            Married    Male   \n",
       "139          Yes        No Income   12.9889            Married  Female   \n",
       "147          Yes        No Income   12.9635             Single    Male   \n",
       "151          Yes   10001 to 25000   12.9783            Married    Male   \n",
       "153           No  More than 50000   12.9980            Married    Male   \n",
       "157          Yes  More than 50000   12.9369            Married    Male   \n",
       "175          Yes  More than 50000   12.9306            Married    Male   \n",
       "228          Yes  More than 50000   12.9119            Married    Male   \n",
       "232           No   Below Rs.10000   12.9866  Prefer not to say    Male   \n",
       "260          Yes  More than 50000   12.9037            Married    Male   \n",
       "263          Yes  More than 50000   12.9635            Married    Male   \n",
       "308           No   Below Rs.10000   12.9866  Prefer not to say    Male   \n",
       "332          Yes        No Income   12.9850            Married  Female   \n",
       "337          Yes   25001 to 50000   12.9261            Married  Female   \n",
       "351          Yes        No Income   13.0289            Married  Female   \n",
       "355          Yes   25001 to 50000   12.9706            Married    Male   \n",
       "369          Yes  More than 50000   12.9662            Married  Female   \n",
       "\n",
       "    employment_status  Family size    Reviews  Pin code   Age  longitude  \\\n",
       "16           Employee          3.0   Positive    560075  32.0    77.6529   \n",
       "26     Self Employeed          3.0  Negative     560008  32.0    77.6256   \n",
       "31           Employee          1.0   Positive    560003  32.0    77.5713   \n",
       "33         House wife          3.0   Positive    560012  32.0    77.5658   \n",
       "71           Employee          3.0   Positive    560075  32.0    77.6529   \n",
       "74           Employee          5.0   Positive    560061  32.0    77.5376   \n",
       "98           Employee          6.0   Positive    560095  32.0    77.6407   \n",
       "105    Self Employeed          6.0   Positive    560024  31.0    77.5923   \n",
       "139        House wife          5.0   Positive    560020  32.0    77.5741   \n",
       "147           Student          5.0   Positive    560002  18.0    77.5821   \n",
       "151          Employee          4.0   Positive    560038  32.0    77.6408   \n",
       "153          Employee          5.0  Negative     560005  33.0    77.6227   \n",
       "157          Employee          6.0   Positive    560095  32.0    77.6407   \n",
       "175          Employee          3.0   Positive    560085  31.0    77.5434   \n",
       "228          Employee          5.0   Positive    560102  31.0    77.6446   \n",
       "232          Employee          1.0  Negative     560091  31.0    77.4904   \n",
       "260          Employee          5.0   Positive    560061  32.0    77.5376   \n",
       "263          Employee          5.0  Negative     560002  32.0    77.5821   \n",
       "308          Employee          1.0  Negative     560091  31.0    77.4904   \n",
       "332        House wife          3.0   Positive    560010  32.0    77.5533   \n",
       "337          Employee          5.0   Positive    560034  32.0    77.6221   \n",
       "351        House wife          5.0   Positive    560022  31.0    77.5400   \n",
       "355          Employee          3.0   Positive    560075  32.0    77.6529   \n",
       "369          Employee          5.0   Positive    560025  31.0    77.6068   \n",
       "\n",
       "    Educational Qualifications  \n",
       "16                    Graduate  \n",
       "26                      School  \n",
       "31                    Graduate  \n",
       "33                  Uneducated  \n",
       "71                    Graduate  \n",
       "74                    Graduate  \n",
       "98               Post Graduate  \n",
       "105                     School  \n",
       "139                     School  \n",
       "147                   Graduate  \n",
       "151                   Graduate  \n",
       "153                       Ph.D  \n",
       "157              Post Graduate  \n",
       "175                       Ph.D  \n",
       "228                       Ph.D  \n",
       "232                   Graduate  \n",
       "260                   Graduate  \n",
       "263                       Ph.D  \n",
       "308                   Graduate  \n",
       "332                   Graduate  \n",
       "337                   Graduate  \n",
       "351                     School  \n",
       "355                   Graduate  \n",
       "369                       Ph.D  "
      ]
     },
     "execution_count": 38,
     "metadata": {},
     "output_type": "execute_result"
    }
   ],
   "source": [
    "df[(df[\"Age\"]>upper_limit) | (df[\"Age\"]<lower_limit)]"
   ]
  },
  {
   "cell_type": "code",
   "execution_count": 39,
   "metadata": {},
   "outputs": [
    {
     "data": {
      "text/plain": [
       "order_status                  364\n",
       "Monthly Income                364\n",
       "latitude                      364\n",
       "Marital Status                364\n",
       "Gender                        364\n",
       "employment_status             364\n",
       "Family size                   364\n",
       "Reviews                       364\n",
       "Pin code                      364\n",
       "Age                           364\n",
       "longitude                     364\n",
       "Educational Qualifications    364\n",
       "dtype: int64"
      ]
     },
     "execution_count": 39,
     "metadata": {},
     "output_type": "execute_result"
    }
   ],
   "source": [
    "df[(df[\"Age\"]<upper_limit) & (df[\"Age\"]>lower_limit)].count()"
   ]
  },
  {
   "cell_type": "code",
   "execution_count": 40,
   "metadata": {},
   "outputs": [
    {
     "data": {
      "text/html": [
       "<div>\n",
       "<style scoped>\n",
       "    .dataframe tbody tr th:only-of-type {\n",
       "        vertical-align: middle;\n",
       "    }\n",
       "\n",
       "    .dataframe tbody tr th {\n",
       "        vertical-align: top;\n",
       "    }\n",
       "\n",
       "    .dataframe thead th {\n",
       "        text-align: right;\n",
       "    }\n",
       "</style>\n",
       "<table border=\"1\" class=\"dataframe\">\n",
       "  <thead>\n",
       "    <tr style=\"text-align: right;\">\n",
       "      <th></th>\n",
       "      <th>order_status</th>\n",
       "      <th>Monthly Income</th>\n",
       "      <th>latitude</th>\n",
       "      <th>Marital Status</th>\n",
       "      <th>Gender</th>\n",
       "      <th>employment_status</th>\n",
       "      <th>Family size</th>\n",
       "      <th>Reviews</th>\n",
       "      <th>Pin code</th>\n",
       "      <th>Age</th>\n",
       "      <th>longitude</th>\n",
       "      <th>Educational Qualifications</th>\n",
       "    </tr>\n",
       "  </thead>\n",
       "  <tbody>\n",
       "    <tr>\n",
       "      <th>0</th>\n",
       "      <td>Yes</td>\n",
       "      <td>25001 to 50000</td>\n",
       "      <td>13.0262</td>\n",
       "      <td>Married</td>\n",
       "      <td>Male</td>\n",
       "      <td>Employee</td>\n",
       "      <td>5.0</td>\n",
       "      <td>Positive</td>\n",
       "      <td>560045</td>\n",
       "      <td>28.0</td>\n",
       "      <td>77.6200</td>\n",
       "      <td>Post Graduate</td>\n",
       "    </tr>\n",
       "    <tr>\n",
       "      <th>1</th>\n",
       "      <td>Yes</td>\n",
       "      <td>No Income</td>\n",
       "      <td>12.9770</td>\n",
       "      <td>Single</td>\n",
       "      <td>Male</td>\n",
       "      <td>Student</td>\n",
       "      <td>3.0</td>\n",
       "      <td>Positive</td>\n",
       "      <td>560009</td>\n",
       "      <td>24.0</td>\n",
       "      <td>77.5773</td>\n",
       "      <td>Post Graduate</td>\n",
       "    </tr>\n",
       "    <tr>\n",
       "      <th>2</th>\n",
       "      <td>Yes</td>\n",
       "      <td>No Income</td>\n",
       "      <td>12.9770</td>\n",
       "      <td>Single</td>\n",
       "      <td>Female</td>\n",
       "      <td>Student</td>\n",
       "      <td>3.0</td>\n",
       "      <td>Positive</td>\n",
       "      <td>560009</td>\n",
       "      <td>24.0</td>\n",
       "      <td>77.5773</td>\n",
       "      <td>Post Graduate</td>\n",
       "    </tr>\n",
       "    <tr>\n",
       "      <th>3</th>\n",
       "      <td>Yes</td>\n",
       "      <td>No Income</td>\n",
       "      <td>13.0019</td>\n",
       "      <td>Single</td>\n",
       "      <td>Female</td>\n",
       "      <td>Student</td>\n",
       "      <td>3.0</td>\n",
       "      <td>Positive</td>\n",
       "      <td>560003</td>\n",
       "      <td>24.0</td>\n",
       "      <td>77.5713</td>\n",
       "      <td>Post Graduate</td>\n",
       "    </tr>\n",
       "    <tr>\n",
       "      <th>4</th>\n",
       "      <td>Yes</td>\n",
       "      <td>More than 50000</td>\n",
       "      <td>13.0626</td>\n",
       "      <td>Married</td>\n",
       "      <td>Male</td>\n",
       "      <td>Self Employeed</td>\n",
       "      <td>3.0</td>\n",
       "      <td>Positive</td>\n",
       "      <td>560015</td>\n",
       "      <td>24.0</td>\n",
       "      <td>77.5284</td>\n",
       "      <td>School</td>\n",
       "    </tr>\n",
       "  </tbody>\n",
       "</table>\n",
       "</div>"
      ],
      "text/plain": [
       "  order_status   Monthly Income  latitude Marital Status  Gender  \\\n",
       "0          Yes   25001 to 50000   13.0262        Married    Male   \n",
       "1          Yes        No Income   12.9770         Single    Male   \n",
       "2          Yes        No Income   12.9770         Single  Female   \n",
       "3          Yes        No Income   13.0019         Single  Female   \n",
       "4          Yes  More than 50000   13.0626        Married    Male   \n",
       "\n",
       "  employment_status  Family size   Reviews  Pin code   Age  longitude  \\\n",
       "0          Employee          5.0  Positive    560045  28.0    77.6200   \n",
       "1           Student          3.0  Positive    560009  24.0    77.5773   \n",
       "2           Student          3.0  Positive    560009  24.0    77.5773   \n",
       "3           Student          3.0  Positive    560003  24.0    77.5713   \n",
       "4    Self Employeed          3.0  Positive    560015  24.0    77.5284   \n",
       "\n",
       "  Educational Qualifications  \n",
       "0              Post Graduate  \n",
       "1              Post Graduate  \n",
       "2              Post Graduate  \n",
       "3              Post Graduate  \n",
       "4                     School  "
      ]
     },
     "execution_count": 40,
     "metadata": {},
     "output_type": "execute_result"
    }
   ],
   "source": [
    "new_df=df[(df[\"Age\"]<upper_limit) & (df[\"Age\"]>lower_limit)]\n",
    "new_df.head()"
   ]
  },
  {
   "cell_type": "code",
   "execution_count": 47,
   "metadata": {},
   "outputs": [
    {
     "data": {
      "text/plain": [
       "<AxesSubplot:ylabel='Age'>"
      ]
     },
     "execution_count": 47,
     "metadata": {},
     "output_type": "execute_result"
    },
    {
     "data": {
      "image/png": "[encoded data removed]",
      "text/plain": [
       "<Figure size 432x288 with 1 Axes>"
      ]
     },
     "metadata": {
      "needs_background": "light"
     },
     "output_type": "display_data"
    }
   ],
   "source": [
    "sns.boxplot(y=\"Age\", data=df)"
   ]
  },
  {
   "cell_type": "code",
   "execution_count": 42,
   "metadata": {},
   "outputs": [
    {
     "data": {
      "text/html": [
       "<div>\n",
       "<style scoped>\n",
       "    .dataframe tbody tr th:only-of-type {\n",
       "        vertical-align: middle;\n",
       "    }\n",
       "\n",
       "    .dataframe tbody tr th {\n",
       "        vertical-align: top;\n",
       "    }\n",
       "\n",
       "    .dataframe thead th {\n",
       "        text-align: right;\n",
       "    }\n",
       "</style>\n",
       "<table border=\"1\" class=\"dataframe\">\n",
       "  <thead>\n",
       "    <tr style=\"text-align: right;\">\n",
       "      <th></th>\n",
       "      <th>order_status</th>\n",
       "      <th>Monthly Income</th>\n",
       "      <th>latitude</th>\n",
       "      <th>Marital Status</th>\n",
       "      <th>Gender</th>\n",
       "      <th>employment_status</th>\n",
       "      <th>Family size</th>\n",
       "      <th>Reviews</th>\n",
       "      <th>Pin code</th>\n",
       "      <th>Age</th>\n",
       "      <th>longitude</th>\n",
       "      <th>Educational Qualifications</th>\n",
       "    </tr>\n",
       "  </thead>\n",
       "  <tbody>\n",
       "    <tr>\n",
       "      <th>0</th>\n",
       "      <td>Yes</td>\n",
       "      <td>25001 to 50000</td>\n",
       "      <td>13.0262</td>\n",
       "      <td>Married</td>\n",
       "      <td>Male</td>\n",
       "      <td>Employee</td>\n",
       "      <td>5.0</td>\n",
       "      <td>Positive</td>\n",
       "      <td>560045</td>\n",
       "      <td>28.0</td>\n",
       "      <td>77.6200</td>\n",
       "      <td>Post Graduate</td>\n",
       "    </tr>\n",
       "    <tr>\n",
       "      <th>1</th>\n",
       "      <td>Yes</td>\n",
       "      <td>No Income</td>\n",
       "      <td>12.9770</td>\n",
       "      <td>Single</td>\n",
       "      <td>Male</td>\n",
       "      <td>Student</td>\n",
       "      <td>3.0</td>\n",
       "      <td>Positive</td>\n",
       "      <td>560009</td>\n",
       "      <td>24.0</td>\n",
       "      <td>77.5773</td>\n",
       "      <td>Post Graduate</td>\n",
       "    </tr>\n",
       "    <tr>\n",
       "      <th>2</th>\n",
       "      <td>Yes</td>\n",
       "      <td>No Income</td>\n",
       "      <td>12.9770</td>\n",
       "      <td>Single</td>\n",
       "      <td>Female</td>\n",
       "      <td>Student</td>\n",
       "      <td>3.0</td>\n",
       "      <td>Positive</td>\n",
       "      <td>560009</td>\n",
       "      <td>24.0</td>\n",
       "      <td>77.5773</td>\n",
       "      <td>Post Graduate</td>\n",
       "    </tr>\n",
       "    <tr>\n",
       "      <th>3</th>\n",
       "      <td>Yes</td>\n",
       "      <td>No Income</td>\n",
       "      <td>13.0019</td>\n",
       "      <td>Single</td>\n",
       "      <td>Female</td>\n",
       "      <td>Student</td>\n",
       "      <td>3.0</td>\n",
       "      <td>Positive</td>\n",
       "      <td>560003</td>\n",
       "      <td>24.0</td>\n",
       "      <td>77.5713</td>\n",
       "      <td>Post Graduate</td>\n",
       "    </tr>\n",
       "    <tr>\n",
       "      <th>4</th>\n",
       "      <td>Yes</td>\n",
       "      <td>More than 50000</td>\n",
       "      <td>13.0626</td>\n",
       "      <td>Married</td>\n",
       "      <td>Male</td>\n",
       "      <td>Self Employeed</td>\n",
       "      <td>3.0</td>\n",
       "      <td>Positive</td>\n",
       "      <td>560015</td>\n",
       "      <td>24.0</td>\n",
       "      <td>77.5284</td>\n",
       "      <td>School</td>\n",
       "    </tr>\n",
       "  </tbody>\n",
       "</table>\n",
       "</div>"
      ],
      "text/plain": [
       "  order_status   Monthly Income  latitude Marital Status  Gender  \\\n",
       "0          Yes   25001 to 50000   13.0262        Married    Male   \n",
       "1          Yes        No Income   12.9770         Single    Male   \n",
       "2          Yes        No Income   12.9770         Single  Female   \n",
       "3          Yes        No Income   13.0019         Single  Female   \n",
       "4          Yes  More than 50000   13.0626        Married    Male   \n",
       "\n",
       "  employment_status  Family size   Reviews  Pin code   Age  longitude  \\\n",
       "0          Employee          5.0  Positive    560045  28.0    77.6200   \n",
       "1           Student          3.0  Positive    560009  24.0    77.5773   \n",
       "2           Student          3.0  Positive    560009  24.0    77.5773   \n",
       "3           Student          3.0  Positive    560003  24.0    77.5713   \n",
       "4    Self Employeed          3.0  Positive    560015  24.0    77.5284   \n",
       "\n",
       "  Educational Qualifications  \n",
       "0              Post Graduate  \n",
       "1              Post Graduate  \n",
       "2              Post Graduate  \n",
       "3              Post Graduate  \n",
       "4                     School  "
      ]
     },
     "execution_count": 42,
     "metadata": {},
     "output_type": "execute_result"
    }
   ],
   "source": [
    "df.head()"
   ]
  },
  {
   "cell_type": "code",
   "execution_count": 43,
   "metadata": {},
   "outputs": [
    {
     "data": {
      "text/plain": [
       "<AxesSubplot:ylabel='Age'>"
      ]
     },
     "execution_count": 43,
     "metadata": {},
     "output_type": "execute_result"
    },
    {
     "data": {
      "image/png": "[encoded data removed]",
      "text/plain": [
       "<Figure size 432x288 with 1 Axes>"
      ]
     },
     "metadata": {
      "needs_background": "light"
     },
     "output_type": "display_data"
    }
   ],
   "source": [
    "sns.boxplot(y=\"Age\", data=df)"
   ]
  },
  {
   "cell_type": "code",
   "execution_count": 44,
   "metadata": {},
   "outputs": [],
   "source": [
    "df[\"Age\"].clip(lower_limit,upper_limit,inplace=True)"
   ]
  },
  {
   "cell_type": "code",
   "execution_count": 45,
   "metadata": {},
   "outputs": [
    {
     "data": {
      "text/plain": [
       "<AxesSubplot:ylabel='Age'>"
      ]
     },
     "execution_count": 45,
     "metadata": {},
     "output_type": "execute_result"
    },
    {
     "data": {
      "image/png": "[encoded data removed]",
      "text/plain": [
       "<Figure size 432x288 with 1 Axes>"
      ]
     },
     "metadata": {
      "needs_background": "light"
     },
     "output_type": "display_data"
    }
   ],
   "source": [
    "sns.boxplot(y=\"Age\", data=df)\n",
    "\n"
   ]
  },
  {
   "cell_type": "code",
   "execution_count": 48,
   "metadata": {},
   "outputs": [
    {
     "data": {
      "text/html": [
       "<div>\n",
       "<style scoped>\n",
       "    .dataframe tbody tr th:only-of-type {\n",
       "        vertical-align: middle;\n",
       "    }\n",
       "\n",
       "    .dataframe tbody tr th {\n",
       "        vertical-align: top;\n",
       "    }\n",
       "\n",
       "    .dataframe thead th {\n",
       "        text-align: right;\n",
       "    }\n",
       "</style>\n",
       "<table border=\"1\" class=\"dataframe\">\n",
       "  <thead>\n",
       "    <tr style=\"text-align: right;\">\n",
       "      <th></th>\n",
       "      <th>order_status</th>\n",
       "      <th>Monthly Income</th>\n",
       "      <th>latitude</th>\n",
       "      <th>Marital Status</th>\n",
       "      <th>Gender</th>\n",
       "      <th>employment_status</th>\n",
       "      <th>Family size</th>\n",
       "      <th>Reviews</th>\n",
       "      <th>Pin code</th>\n",
       "      <th>Age</th>\n",
       "      <th>longitude</th>\n",
       "      <th>Educational Qualifications</th>\n",
       "    </tr>\n",
       "  </thead>\n",
       "  <tbody>\n",
       "    <tr>\n",
       "      <th>0</th>\n",
       "      <td>Yes</td>\n",
       "      <td>25001 to 50000</td>\n",
       "      <td>13.0262</td>\n",
       "      <td>Married</td>\n",
       "      <td>Male</td>\n",
       "      <td>Employee</td>\n",
       "      <td>5.0</td>\n",
       "      <td>Positive</td>\n",
       "      <td>560045</td>\n",
       "      <td>28.0</td>\n",
       "      <td>77.6200</td>\n",
       "      <td>Post Graduate</td>\n",
       "    </tr>\n",
       "    <tr>\n",
       "      <th>1</th>\n",
       "      <td>Yes</td>\n",
       "      <td>No Income</td>\n",
       "      <td>12.9770</td>\n",
       "      <td>Single</td>\n",
       "      <td>Male</td>\n",
       "      <td>Student</td>\n",
       "      <td>3.0</td>\n",
       "      <td>Positive</td>\n",
       "      <td>560009</td>\n",
       "      <td>24.0</td>\n",
       "      <td>77.5773</td>\n",
       "      <td>Post Graduate</td>\n",
       "    </tr>\n",
       "  </tbody>\n",
       "</table>\n",
       "</div>"
      ],
      "text/plain": [
       "  order_status  Monthly Income  latitude Marital Status Gender  \\\n",
       "0          Yes  25001 to 50000   13.0262        Married   Male   \n",
       "1          Yes       No Income   12.9770         Single   Male   \n",
       "\n",
       "  employment_status  Family size   Reviews  Pin code   Age  longitude  \\\n",
       "0          Employee          5.0  Positive    560045  28.0    77.6200   \n",
       "1           Student          3.0  Positive    560009  24.0    77.5773   \n",
       "\n",
       "  Educational Qualifications  \n",
       "0              Post Graduate  \n",
       "1              Post Graduate  "
      ]
     },
     "execution_count": 48,
     "metadata": {},
     "output_type": "execute_result"
    }
   ],
   "source": [
    "df.head(2)"
   ]
  },
  {
   "cell_type": "code",
   "execution_count": null,
   "metadata": {},
   "outputs": [],
   "source": []
  }
 ],
 "metadata": {
  "kernelspec": {
   "display_name": "base",
   "language": "python",
   "name": "python3"
  },
  "language_info": {
   "codemirror_mode": {
    "name": "ipython",
    "version": 3
   },
   "file_extension": ".py",
   "mimetype": "text/x-python",
   "name": "python",
   "nbconvert_exporter": "python",
   "pygments_lexer": "ipython3",
   "version": "3.9.7"
  }
 },
 "nbformat": 4,
 "nbformat_minor": 2
}
